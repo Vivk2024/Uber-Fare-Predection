{
 "cells": [
  {
   "cell_type": "markdown",
   "id": "5073b15f-f7f3-460a-b20d-b30d433514d0",
   "metadata": {},
   "source": [
    "# Load the data set"
   ]
  },
  {
   "cell_type": "code",
   "execution_count": 1,
   "id": "c5bac9a7-9e46-4e3e-82e5-83c8e03f97b6",
   "metadata": {},
   "outputs": [],
   "source": [
    "import pandas as pd\n",
    "import numpy as np\n",
    "import matplotlib.pyplot as plt\n",
    "import seaborn as sns\n",
    "import warnings\n",
    "warnings.simplefilter(action='ignore', category=FutureWarning)"
   ]
  },
  {
   "cell_type": "code",
   "execution_count": 2,
   "id": "0c858046-0171-4928-af3a-131632184ff4",
   "metadata": {},
   "outputs": [],
   "source": [
    "df=pd.read_csv(r'C:\\Users\\User\\Downloads\\uber.csv')"
   ]
  },
  {
   "cell_type": "code",
   "execution_count": 3,
   "id": "cb90d3c0-cfb8-4b1a-ab2f-fed4f2d9bc62",
   "metadata": {},
   "outputs": [
    {
     "data": {
      "text/html": [
       "<div>\n",
       "<style scoped>\n",
       "    .dataframe tbody tr th:only-of-type {\n",
       "        vertical-align: middle;\n",
       "    }\n",
       "\n",
       "    .dataframe tbody tr th {\n",
       "        vertical-align: top;\n",
       "    }\n",
       "\n",
       "    .dataframe thead th {\n",
       "        text-align: right;\n",
       "    }\n",
       "</style>\n",
       "<table border=\"1\" class=\"dataframe\">\n",
       "  <thead>\n",
       "    <tr style=\"text-align: right;\">\n",
       "      <th></th>\n",
       "      <th>Unnamed: 0</th>\n",
       "      <th>key</th>\n",
       "      <th>fare_amount</th>\n",
       "      <th>pickup_datetime</th>\n",
       "      <th>pickup_longitude</th>\n",
       "      <th>pickup_latitude</th>\n",
       "      <th>dropoff_longitude</th>\n",
       "      <th>dropoff_latitude</th>\n",
       "      <th>passenger_count</th>\n",
       "    </tr>\n",
       "  </thead>\n",
       "  <tbody>\n",
       "    <tr>\n",
       "      <th>0</th>\n",
       "      <td>24238194</td>\n",
       "      <td>2015-05-07 19:52:06.0000003</td>\n",
       "      <td>7.5</td>\n",
       "      <td>2015-05-07 19:52:06 UTC</td>\n",
       "      <td>-73.999817</td>\n",
       "      <td>40.738354</td>\n",
       "      <td>-73.999512</td>\n",
       "      <td>40.723217</td>\n",
       "      <td>1</td>\n",
       "    </tr>\n",
       "    <tr>\n",
       "      <th>1</th>\n",
       "      <td>27835199</td>\n",
       "      <td>2009-07-17 20:04:56.0000002</td>\n",
       "      <td>7.7</td>\n",
       "      <td>2009-07-17 20:04:56 UTC</td>\n",
       "      <td>-73.994355</td>\n",
       "      <td>40.728225</td>\n",
       "      <td>-73.994710</td>\n",
       "      <td>40.750325</td>\n",
       "      <td>1</td>\n",
       "    </tr>\n",
       "    <tr>\n",
       "      <th>2</th>\n",
       "      <td>44984355</td>\n",
       "      <td>2009-08-24 21:45:00.00000061</td>\n",
       "      <td>12.9</td>\n",
       "      <td>2009-08-24 21:45:00 UTC</td>\n",
       "      <td>-74.005043</td>\n",
       "      <td>40.740770</td>\n",
       "      <td>-73.962565</td>\n",
       "      <td>40.772647</td>\n",
       "      <td>1</td>\n",
       "    </tr>\n",
       "    <tr>\n",
       "      <th>3</th>\n",
       "      <td>25894730</td>\n",
       "      <td>2009-06-26 08:22:21.0000001</td>\n",
       "      <td>5.3</td>\n",
       "      <td>2009-06-26 08:22:21 UTC</td>\n",
       "      <td>-73.976124</td>\n",
       "      <td>40.790844</td>\n",
       "      <td>-73.965316</td>\n",
       "      <td>40.803349</td>\n",
       "      <td>3</td>\n",
       "    </tr>\n",
       "    <tr>\n",
       "      <th>4</th>\n",
       "      <td>17610152</td>\n",
       "      <td>2014-08-28 17:47:00.000000188</td>\n",
       "      <td>16.0</td>\n",
       "      <td>2014-08-28 17:47:00 UTC</td>\n",
       "      <td>-73.925023</td>\n",
       "      <td>40.744085</td>\n",
       "      <td>-73.973082</td>\n",
       "      <td>40.761247</td>\n",
       "      <td>5</td>\n",
       "    </tr>\n",
       "  </tbody>\n",
       "</table>\n",
       "</div>"
      ],
      "text/plain": [
       "   Unnamed: 0                            key  fare_amount  \\\n",
       "0    24238194    2015-05-07 19:52:06.0000003          7.5   \n",
       "1    27835199    2009-07-17 20:04:56.0000002          7.7   \n",
       "2    44984355   2009-08-24 21:45:00.00000061         12.9   \n",
       "3    25894730    2009-06-26 08:22:21.0000001          5.3   \n",
       "4    17610152  2014-08-28 17:47:00.000000188         16.0   \n",
       "\n",
       "           pickup_datetime  pickup_longitude  pickup_latitude  \\\n",
       "0  2015-05-07 19:52:06 UTC        -73.999817        40.738354   \n",
       "1  2009-07-17 20:04:56 UTC        -73.994355        40.728225   \n",
       "2  2009-08-24 21:45:00 UTC        -74.005043        40.740770   \n",
       "3  2009-06-26 08:22:21 UTC        -73.976124        40.790844   \n",
       "4  2014-08-28 17:47:00 UTC        -73.925023        40.744085   \n",
       "\n",
       "   dropoff_longitude  dropoff_latitude  passenger_count  \n",
       "0         -73.999512         40.723217                1  \n",
       "1         -73.994710         40.750325                1  \n",
       "2         -73.962565         40.772647                1  \n",
       "3         -73.965316         40.803349                3  \n",
       "4         -73.973082         40.761247                5  "
      ]
     },
     "execution_count": 3,
     "metadata": {},
     "output_type": "execute_result"
    }
   ],
   "source": [
    "df.head()"
   ]
  },
  {
   "cell_type": "markdown",
   "id": "6da39319-f27b-41fb-8701-5185bfc507f9",
   "metadata": {},
   "source": [
    "# Explore the data set"
   ]
  },
  {
   "cell_type": "code",
   "execution_count": 4,
   "id": "c8c19b87-4e48-44a9-9e49-b002b70d9af0",
   "metadata": {},
   "outputs": [
    {
     "data": {
      "text/plain": [
       "(200000, 9)"
      ]
     },
     "execution_count": 4,
     "metadata": {},
     "output_type": "execute_result"
    }
   ],
   "source": [
    "df.shape"
   ]
  },
  {
   "cell_type": "code",
   "execution_count": 5,
   "id": "d675cbee-9a7b-4a81-9a00-06100976887f",
   "metadata": {},
   "outputs": [
    {
     "name": "stdout",
     "output_type": "stream",
     "text": [
      "<class 'pandas.core.frame.DataFrame'>\n",
      "RangeIndex: 200000 entries, 0 to 199999\n",
      "Data columns (total 9 columns):\n",
      " #   Column             Non-Null Count   Dtype  \n",
      "---  ------             --------------   -----  \n",
      " 0   Unnamed: 0         200000 non-null  int64  \n",
      " 1   key                200000 non-null  object \n",
      " 2   fare_amount        200000 non-null  float64\n",
      " 3   pickup_datetime    200000 non-null  object \n",
      " 4   pickup_longitude   200000 non-null  float64\n",
      " 5   pickup_latitude    200000 non-null  float64\n",
      " 6   dropoff_longitude  199999 non-null  float64\n",
      " 7   dropoff_latitude   199999 non-null  float64\n",
      " 8   passenger_count    200000 non-null  int64  \n",
      "dtypes: float64(5), int64(2), object(2)\n",
      "memory usage: 13.7+ MB\n"
     ]
    }
   ],
   "source": [
    "df.info()"
   ]
  },
  {
   "cell_type": "code",
   "execution_count": 6,
   "id": "01a2ab62-f549-48a0-82bb-8d95d1b9689b",
   "metadata": {},
   "outputs": [
    {
     "data": {
      "text/html": [
       "<div>\n",
       "<style scoped>\n",
       "    .dataframe tbody tr th:only-of-type {\n",
       "        vertical-align: middle;\n",
       "    }\n",
       "\n",
       "    .dataframe tbody tr th {\n",
       "        vertical-align: top;\n",
       "    }\n",
       "\n",
       "    .dataframe thead th {\n",
       "        text-align: right;\n",
       "    }\n",
       "</style>\n",
       "<table border=\"1\" class=\"dataframe\">\n",
       "  <thead>\n",
       "    <tr style=\"text-align: right;\">\n",
       "      <th></th>\n",
       "      <th>Unnamed: 0</th>\n",
       "      <th>fare_amount</th>\n",
       "      <th>pickup_longitude</th>\n",
       "      <th>pickup_latitude</th>\n",
       "      <th>dropoff_longitude</th>\n",
       "      <th>dropoff_latitude</th>\n",
       "      <th>passenger_count</th>\n",
       "    </tr>\n",
       "  </thead>\n",
       "  <tbody>\n",
       "    <tr>\n",
       "      <th>count</th>\n",
       "      <td>2.000000e+05</td>\n",
       "      <td>200000.000000</td>\n",
       "      <td>200000.000000</td>\n",
       "      <td>200000.000000</td>\n",
       "      <td>199999.000000</td>\n",
       "      <td>199999.000000</td>\n",
       "      <td>200000.000000</td>\n",
       "    </tr>\n",
       "    <tr>\n",
       "      <th>mean</th>\n",
       "      <td>2.771250e+07</td>\n",
       "      <td>11.359955</td>\n",
       "      <td>-72.527638</td>\n",
       "      <td>39.935885</td>\n",
       "      <td>-72.525292</td>\n",
       "      <td>39.923890</td>\n",
       "      <td>1.684535</td>\n",
       "    </tr>\n",
       "    <tr>\n",
       "      <th>std</th>\n",
       "      <td>1.601382e+07</td>\n",
       "      <td>9.901776</td>\n",
       "      <td>11.437787</td>\n",
       "      <td>7.720539</td>\n",
       "      <td>13.117408</td>\n",
       "      <td>6.794829</td>\n",
       "      <td>1.385997</td>\n",
       "    </tr>\n",
       "    <tr>\n",
       "      <th>min</th>\n",
       "      <td>1.000000e+00</td>\n",
       "      <td>-52.000000</td>\n",
       "      <td>-1340.648410</td>\n",
       "      <td>-74.015515</td>\n",
       "      <td>-3356.666300</td>\n",
       "      <td>-881.985513</td>\n",
       "      <td>0.000000</td>\n",
       "    </tr>\n",
       "    <tr>\n",
       "      <th>25%</th>\n",
       "      <td>1.382535e+07</td>\n",
       "      <td>6.000000</td>\n",
       "      <td>-73.992065</td>\n",
       "      <td>40.734796</td>\n",
       "      <td>-73.991407</td>\n",
       "      <td>40.733823</td>\n",
       "      <td>1.000000</td>\n",
       "    </tr>\n",
       "    <tr>\n",
       "      <th>50%</th>\n",
       "      <td>2.774550e+07</td>\n",
       "      <td>8.500000</td>\n",
       "      <td>-73.981823</td>\n",
       "      <td>40.752592</td>\n",
       "      <td>-73.980093</td>\n",
       "      <td>40.753042</td>\n",
       "      <td>1.000000</td>\n",
       "    </tr>\n",
       "    <tr>\n",
       "      <th>75%</th>\n",
       "      <td>4.155530e+07</td>\n",
       "      <td>12.500000</td>\n",
       "      <td>-73.967154</td>\n",
       "      <td>40.767158</td>\n",
       "      <td>-73.963658</td>\n",
       "      <td>40.768001</td>\n",
       "      <td>2.000000</td>\n",
       "    </tr>\n",
       "    <tr>\n",
       "      <th>max</th>\n",
       "      <td>5.542357e+07</td>\n",
       "      <td>499.000000</td>\n",
       "      <td>57.418457</td>\n",
       "      <td>1644.421482</td>\n",
       "      <td>1153.572603</td>\n",
       "      <td>872.697628</td>\n",
       "      <td>208.000000</td>\n",
       "    </tr>\n",
       "  </tbody>\n",
       "</table>\n",
       "</div>"
      ],
      "text/plain": [
       "         Unnamed: 0    fare_amount  pickup_longitude  pickup_latitude  \\\n",
       "count  2.000000e+05  200000.000000     200000.000000    200000.000000   \n",
       "mean   2.771250e+07      11.359955        -72.527638        39.935885   \n",
       "std    1.601382e+07       9.901776         11.437787         7.720539   \n",
       "min    1.000000e+00     -52.000000      -1340.648410       -74.015515   \n",
       "25%    1.382535e+07       6.000000        -73.992065        40.734796   \n",
       "50%    2.774550e+07       8.500000        -73.981823        40.752592   \n",
       "75%    4.155530e+07      12.500000        -73.967154        40.767158   \n",
       "max    5.542357e+07     499.000000         57.418457      1644.421482   \n",
       "\n",
       "       dropoff_longitude  dropoff_latitude  passenger_count  \n",
       "count      199999.000000     199999.000000    200000.000000  \n",
       "mean          -72.525292         39.923890         1.684535  \n",
       "std            13.117408          6.794829         1.385997  \n",
       "min         -3356.666300       -881.985513         0.000000  \n",
       "25%           -73.991407         40.733823         1.000000  \n",
       "50%           -73.980093         40.753042         1.000000  \n",
       "75%           -73.963658         40.768001         2.000000  \n",
       "max          1153.572603        872.697628       208.000000  "
      ]
     },
     "execution_count": 6,
     "metadata": {},
     "output_type": "execute_result"
    }
   ],
   "source": [
    "df.describe()"
   ]
  },
  {
   "cell_type": "code",
   "execution_count": 7,
   "id": "c2ea53d9-2e41-4575-9e3c-9c3ee1e07beb",
   "metadata": {},
   "outputs": [
    {
     "data": {
      "text/plain": [
       "Unnamed: 0             0\n",
       "key                    0\n",
       "fare_amount          0.0\n",
       "pickup_datetime        0\n",
       "pickup_longitude     0.0\n",
       "pickup_latitude      0.0\n",
       "dropoff_longitude    0.0\n",
       "dropoff_latitude     0.0\n",
       "passenger_count        0\n",
       "dtype: object"
      ]
     },
     "execution_count": 7,
     "metadata": {},
     "output_type": "execute_result"
    }
   ],
   "source": [
    "df[df.duplicated()].sum()"
   ]
  },
  {
   "cell_type": "markdown",
   "id": "d681a746-a4ec-48b7-8471-3be666b81005",
   "metadata": {},
   "source": [
    "# Checking for missing values"
   ]
  },
  {
   "cell_type": "code",
   "execution_count": 8,
   "id": "a12f7b98-00c2-4893-90ab-f4436ac1c236",
   "metadata": {},
   "outputs": [
    {
     "data": {
      "text/plain": [
       "Unnamed: 0           0\n",
       "key                  0\n",
       "fare_amount          0\n",
       "pickup_datetime      0\n",
       "pickup_longitude     0\n",
       "pickup_latitude      0\n",
       "dropoff_longitude    1\n",
       "dropoff_latitude     1\n",
       "passenger_count      0\n",
       "dtype: int64"
      ]
     },
     "execution_count": 8,
     "metadata": {},
     "output_type": "execute_result"
    }
   ],
   "source": [
    "df.isnull().sum()"
   ]
  },
  {
   "cell_type": "markdown",
   "id": "bdc18014-128d-4519-b7d3-650c0b515be1",
   "metadata": {},
   "source": [
    "### For 'pickup_longitude','dropoff_longitude','pickup_latitude','dropoff_latitude'"
   ]
  },
  {
   "cell_type": "code",
   "execution_count": 9,
   "id": "07bdb813-5389-41da-9854-515ff32e0526",
   "metadata": {},
   "outputs": [],
   "source": [
    "invalid_piclon=df[(df['pickup_longitude']<-180)|(df['pickup_longitude']>180)]\n",
    "invalid_droplon=df[(df['dropoff_longitude']<-180)|(df['dropoff_longitude']>180)]  \n",
    "invalid_piclat=df[(df['pickup_latitude']<-90)|(df['pickup_latitude']>90)]\n",
    "invalid_droplat=df[(df['dropoff_latitude']<-90)|(df['dropoff_latitude']<90)]"
   ]
  },
  {
   "cell_type": "markdown",
   "id": "1302b418-22e4-427d-bd2d-6b18c2c1dbcc",
   "metadata": {},
   "source": [
    "### Impute invalid data with 'nan'"
   ]
  },
  {
   "cell_type": "code",
   "execution_count": 10,
   "id": "3128082c-ee43-4281-bd91-0845a1412900",
   "metadata": {},
   "outputs": [],
   "source": [
    "df['pickup_longitude']=np.where((df['pickup_longitude']<-180)|(df['pickup_longitude']>180),np.nan,df['pickup_longitude'])"
   ]
  },
  {
   "cell_type": "code",
   "execution_count": 11,
   "id": "e9c30658-6ca2-4303-9534-7c07306e4ddc",
   "metadata": {},
   "outputs": [],
   "source": [
    "df['dropoff_longitude']=np.where((df['dropoff_longitude']<-180)|(df['dropoff_longitude']>180),np.nan,df['dropoff_longitude'])\n",
    "df['pickup_latitude']=np.where((df['pickup_latitude']<-90)|(df['pickup_latitude']>90),np.nan,df['pickup_latitude'])\n",
    "df['dropoff_latitude']=np.where((df['dropoff_latitude']<-90)|(df['dropoff_latitude']>90),np.nan,df['dropoff_latitude'])"
   ]
  },
  {
   "cell_type": "code",
   "execution_count": 12,
   "id": "3626f3f4-27d2-47b0-aa2b-4dbdd1c6e693",
   "metadata": {},
   "outputs": [
    {
     "data": {
      "text/plain": [
       "Unnamed: 0           0\n",
       "key                  0\n",
       "fare_amount          0\n",
       "pickup_datetime      0\n",
       "pickup_longitude     7\n",
       "pickup_latitude      4\n",
       "dropoff_longitude    4\n",
       "dropoff_latitude     4\n",
       "passenger_count      0\n",
       "dtype: int64"
      ]
     },
     "execution_count": 12,
     "metadata": {},
     "output_type": "execute_result"
    }
   ],
   "source": [
    "df.isnull().sum()"
   ]
  },
  {
   "cell_type": "markdown",
   "id": "7cb75894-e562-451c-9e03-e38fd8d0b4d8",
   "metadata": {},
   "source": [
    "### Impute missing values with median"
   ]
  },
  {
   "cell_type": "code",
   "execution_count": 13,
   "id": "ceb9e201-a877-487a-a8ce-38a963da7236",
   "metadata": {},
   "outputs": [],
   "source": [
    "df['pickup_longitude']=df['pickup_longitude'].fillna(df['pickup_longitude'].median())"
   ]
  },
  {
   "cell_type": "code",
   "execution_count": 14,
   "id": "7f12f508-a3d3-4795-80e3-57035430d2e1",
   "metadata": {},
   "outputs": [],
   "source": [
    "df['pickup_latitude']=df['pickup_latitude'].fillna(df['pickup_latitude'].median())\n",
    "df['dropoff_longitude']=df['dropoff_longitude'].fillna(df['dropoff_longitude'].median())\n",
    "df['dropoff_latitude']=df['dropoff_latitude'].fillna(df['dropoff_latitude'].median())"
   ]
  },
  {
   "cell_type": "markdown",
   "id": "98840c53-7102-46ff-8516-3039000cff1b",
   "metadata": {},
   "source": [
    "### Find the Distance"
   ]
  },
  {
   "cell_type": "code",
   "execution_count": 15,
   "id": "8740f5c6-12e3-4064-bd2b-23c76a8359c6",
   "metadata": {},
   "outputs": [
    {
     "name": "stdout",
     "output_type": "stream",
     "text": [
      "Requirement already satisfied: geopy in c:\\users\\user\\anaconda3\\lib\\site-packages (2.4.1)\n",
      "Requirement already satisfied: geographiclib<3,>=1.52 in c:\\users\\user\\anaconda3\\lib\\site-packages (from geopy) (2.0)\n",
      "Note: you may need to restart the kernel to use updated packages.\n"
     ]
    }
   ],
   "source": [
    "pip install geopy"
   ]
  },
  {
   "cell_type": "code",
   "execution_count": 16,
   "id": "a57e0a71-cf0c-452b-9013-b6e82c0ca3e5",
   "metadata": {},
   "outputs": [],
   "source": [
    "from geopy.distance import great_circle"
   ]
  },
  {
   "cell_type": "code",
   "execution_count": 17,
   "id": "fa881ccc-cfd7-4e0f-9c2f-7aac681478eb",
   "metadata": {},
   "outputs": [],
   "source": [
    "def cal_distance(pickup_lat,pickup_long,dropoff_lat,dropoff_long):\n",
    "    \n",
    " \n",
    "    start_coordinates=(pickup_lat,pickup_long)\n",
    "    stop_coordinates=(dropoff_lat,dropoff_long)\n",
    "    \n",
    " \n",
    "    return great_circle(start_coordinates,stop_coordinates).km"
   ]
  },
  {
   "cell_type": "code",
   "execution_count": 18,
   "id": "0c22b459-9050-4959-b012-9a8027ef3bc2",
   "metadata": {},
   "outputs": [],
   "source": [
    "df['distance']=df.apply(lambda x: cal_distance(x['pickup_latitude'],x['pickup_longitude'],x['dropoff_latitude'],x['dropoff_longitude'] ), axis=1)"
   ]
  },
  {
   "cell_type": "code",
   "execution_count": 19,
   "id": "357b19c4-303f-430b-9e32-2661ca53031b",
   "metadata": {},
   "outputs": [],
   "source": [
    "df['distance']=round(df['distance'],0)"
   ]
  },
  {
   "cell_type": "code",
   "execution_count": 20,
   "id": "a0af881e-bda4-404a-abc8-0963c21171c6",
   "metadata": {},
   "outputs": [
    {
     "data": {
      "text/plain": [
       "<Axes: >"
      ]
     },
     "execution_count": 20,
     "metadata": {},
     "output_type": "execute_result"
    },
    {
     "data": {
      "image/png": "[encoded data removed]",
      "text/plain": [
       "<Figure size 640x480 with 1 Axes>"
      ]
     },
     "metadata": {},
     "output_type": "display_data"
    }
   ],
   "source": [
    "df['distance']\n",
    "sns.boxplot(df['distance'])"
   ]
  },
  {
   "cell_type": "markdown",
   "id": "4c9d2d49-76a4-4d89-8b22-659f42008130",
   "metadata": {},
   "source": [
    "## Handling the outliers"
   ]
  },
  {
   "cell_type": "code",
   "execution_count": 21,
   "id": "aa3cfa21-8a5b-4b24-b3da-feb24fe02c95",
   "metadata": {},
   "outputs": [
    {
     "data": {
      "text/plain": [
       "count    200000.000000\n",
       "mean         20.610985\n",
       "std         380.225836\n",
       "min           0.000000\n",
       "25%           1.000000\n",
       "50%           2.000000\n",
       "75%           4.000000\n",
       "max        9710.000000\n",
       "Name: distance, dtype: float64"
      ]
     },
     "execution_count": 21,
     "metadata": {},
     "output_type": "execute_result"
    }
   ],
   "source": [
    "df['distance'].describe()"
   ]
  },
  {
   "cell_type": "code",
   "execution_count": 22,
   "id": "fba2a436-3b2b-4b2b-9394-90bf0e82b865",
   "metadata": {},
   "outputs": [],
   "source": [
    "q1=df['distance'].quantile(0.25)\n",
    "q3=df['distance'].quantile(0.90)\n",
    "iqr=q3-q1\n",
    "lb=q1-1.5*iqr\n",
    "ub=q3+1.5*iqr\n",
    "df.loc[df['distance']>=ub,'distance']=ub\n",
    "df.loc[df['distance']<=lb,'distance']=lb"
   ]
  },
  {
   "cell_type": "code",
   "execution_count": 23,
   "id": "8808d170-00e4-4021-8388-1a9bd874db3d",
   "metadata": {},
   "outputs": [
    {
     "data": {
      "text/plain": [
       "count    200000.000000\n",
       "mean          3.201700\n",
       "std           3.245924\n",
       "min           0.000000\n",
       "25%           1.000000\n",
       "50%           2.000000\n",
       "75%           4.000000\n",
       "max          16.000000\n",
       "Name: distance, dtype: float64"
      ]
     },
     "execution_count": 23,
     "metadata": {},
     "output_type": "execute_result"
    }
   ],
   "source": [
    "df['distance'].describe()"
   ]
  },
  {
   "cell_type": "code",
   "execution_count": 24,
   "id": "675a2b59-5d32-4b7d-a542-8e2b6053df38",
   "metadata": {},
   "outputs": [
    {
     "data": {
      "text/plain": [
       "<Axes: >"
      ]
     },
     "execution_count": 24,
     "metadata": {},
     "output_type": "execute_result"
    },
    {
     "data": {
      "image/png": "[encoded data removed]",
      "text/plain": [
       "<Figure size 640x480 with 1 Axes>"
      ]
     },
     "metadata": {},
     "output_type": "display_data"
    }
   ],
   "source": [
    "sns.boxplot(df['distance'])"
   ]
  },
  {
   "cell_type": "markdown",
   "id": "8df630ac-c58d-4770-8475-b6a9e34d7cb4",
   "metadata": {},
   "source": [
    "## Outliers checking for target variable"
   ]
  },
  {
   "cell_type": "code",
   "execution_count": 25,
   "id": "e6711e1e-69a5-421d-8b2b-0fd5c5099467",
   "metadata": {},
   "outputs": [
    {
     "data": {
      "text/plain": [
       "count    200000.000000\n",
       "mean         11.359955\n",
       "std           9.901776\n",
       "min         -52.000000\n",
       "25%           6.000000\n",
       "50%           8.500000\n",
       "75%          12.500000\n",
       "max         499.000000\n",
       "Name: fare_amount, dtype: float64"
      ]
     },
     "execution_count": 25,
     "metadata": {},
     "output_type": "execute_result"
    }
   ],
   "source": [
    "df['fare_amount'].describe()"
   ]
  },
  {
   "cell_type": "markdown",
   "id": "ac730010-3907-498b-9c82-2027c744035b",
   "metadata": {},
   "source": [
    "## Target feature has a lot of outliers"
   ]
  },
  {
   "cell_type": "code",
   "execution_count": 26,
   "id": "5e3fc749-bb56-4810-b6b2-3e241a945cd2",
   "metadata": {},
   "outputs": [],
   "source": [
    "q1=df['fare_amount'].quantile(0.30)"
   ]
  },
  {
   "cell_type": "code",
   "execution_count": 27,
   "id": "6a0b1410-02c5-4d02-8aac-de5b23703ae1",
   "metadata": {},
   "outputs": [],
   "source": [
    "q3=df['fare_amount'].quantile(0.75)"
   ]
  },
  {
   "cell_type": "code",
   "execution_count": 28,
   "id": "5442e8ef-209e-4136-9f6a-98b828df7d08",
   "metadata": {},
   "outputs": [],
   "source": [
    "iqr=q3-q1"
   ]
  },
  {
   "cell_type": "code",
   "execution_count": 29,
   "id": "66bf85da-1108-4f81-ab04-430455e7996c",
   "metadata": {},
   "outputs": [],
   "source": [
    "lb=q1-1.5*iqr\n",
    "ub=q3+1.5*iqr"
   ]
  },
  {
   "cell_type": "code",
   "execution_count": 30,
   "id": "f0f09c3d-5433-4c2f-bb9a-83e017f1a434",
   "metadata": {},
   "outputs": [],
   "source": [
    "df.loc[df['fare_amount']>=ub,'fare_amount']=ub\n",
    "df.loc[df['fare_amount']<=lb,'fare_amount']=lb"
   ]
  },
  {
   "cell_type": "code",
   "execution_count": 31,
   "id": "e523ec54-1baf-464b-b376-695a9f79ff9a",
   "metadata": {},
   "outputs": [
    {
     "data": {
      "text/plain": [
       "<Axes: xlabel='fare_amount'>"
      ]
     },
     "execution_count": 31,
     "metadata": {},
     "output_type": "execute_result"
    },
    {
     "data": {
      "image/png": "[encoded data removed]",
      "text/plain": [
       "<Figure size 800x600 with 1 Axes>"
      ]
     },
     "metadata": {},
     "output_type": "display_data"
    }
   ],
   "source": [
    "plt.figure(figsize=(8,6))\n",
    "sns.boxplot(x='fare_amount',data=df)"
   ]
  },
  {
   "cell_type": "code",
   "execution_count": 32,
   "id": "012e6fe9-559c-4066-9275-152cc02f9334",
   "metadata": {},
   "outputs": [
    {
     "data": {
      "text/plain": [
       "<Axes: xlabel='fare_amount', ylabel='Count'>"
      ]
     },
     "execution_count": 32,
     "metadata": {},
     "output_type": "execute_result"
    },
    {
     "data": {
      "image/png": "[encoded data removed]",
      "text/plain": [
       "<Figure size 640x480 with 1 Axes>"
      ]
     },
     "metadata": {},
     "output_type": "display_data"
    }
   ],
   "source": [
    "sns.histplot(df['fare_amount'],bins=50,kde=True)"
   ]
  },
  {
   "cell_type": "code",
   "execution_count": 33,
   "id": "69cb10de-7b2c-4809-b2bb-836931608a15",
   "metadata": {},
   "outputs": [
    {
     "data": {
      "text/plain": [
       "<Axes: xlabel='fare_amount', ylabel='Count'>"
      ]
     },
     "execution_count": 33,
     "metadata": {},
     "output_type": "execute_result"
    },
    {
     "data": {
      "image/png": "[encoded data removed]",
      "text/plain": [
       "<Figure size 640x480 with 1 Axes>"
      ]
     },
     "metadata": {},
     "output_type": "display_data"
    }
   ],
   "source": [
    "sns.histplot(df['fare_amount'])"
   ]
  },
  {
   "cell_type": "markdown",
   "id": "8c053d6d-c2b1-4cd5-9f39-554c087de57b",
   "metadata": {},
   "source": [
    "# Feature Engineering"
   ]
  },
  {
   "cell_type": "code",
   "execution_count": 34,
   "id": "2838bef8-7348-4af9-b5aa-e004a8f616ac",
   "metadata": {},
   "outputs": [],
   "source": [
    "df['date']=df['pickup_datetime'].apply(lambda x:x.split(' ')[0])"
   ]
  },
  {
   "cell_type": "code",
   "execution_count": 35,
   "id": "194311fc-8868-4d13-8f9e-e6bf2ca2f381",
   "metadata": {},
   "outputs": [],
   "source": [
    "df['pickup_time']=df['pickup_datetime'].apply(lambda x:x.split(' ')[1])"
   ]
  },
  {
   "cell_type": "code",
   "execution_count": 36,
   "id": "10075a5d-3b24-4c23-b6d1-40f8d0a6bc27",
   "metadata": {},
   "outputs": [],
   "source": [
    "df['date']=pd.to_datetime(df['date'],format='%Y-%M-%d')"
   ]
  },
  {
   "cell_type": "code",
   "execution_count": 37,
   "id": "d2f0369b-8a76-4ff7-a344-6fadd4cd0b6b",
   "metadata": {},
   "outputs": [],
   "source": [
    "df['year']=df['date'].dt.year"
   ]
  },
  {
   "cell_type": "code",
   "execution_count": 38,
   "id": "b8323482-c17c-42ee-916e-29c52af777df",
   "metadata": {},
   "outputs": [],
   "source": [
    "df['hour']=df['pickup_time'].apply(lambda x:x.split(':')[0])"
   ]
  },
  {
   "cell_type": "code",
   "execution_count": 39,
   "id": "3bb53ccb-1030-43be-b7f8-9e5094585bef",
   "metadata": {},
   "outputs": [],
   "source": [
    "df['hour']=df['hour'].astype(int)"
   ]
  },
  {
   "cell_type": "code",
   "execution_count": 40,
   "id": "af1f28db-8398-4e94-a804-b5716745b6fe",
   "metadata": {},
   "outputs": [],
   "source": [
    "df=df.drop(['date','pickup_time'],axis=1)"
   ]
  },
  {
   "cell_type": "code",
   "execution_count": 41,
   "id": "899480ee-22c4-4e99-a101-b2338d83fdf4",
   "metadata": {},
   "outputs": [],
   "source": [
    "df=df.drop(['key','Unnamed: 0','pickup_datetime'],axis=1)"
   ]
  },
  {
   "cell_type": "code",
   "execution_count": 42,
   "id": "8d3e1f97-0a32-4109-bb5a-ace7d9c8db7a",
   "metadata": {},
   "outputs": [],
   "source": [
    "b = [-1,12,16,24]\n",
    "l = ['Morning','afterNoon','Eve']\n",
    "df['session'] = pd.cut(df['hour'], bins=b, labels=l)"
   ]
  },
  {
   "cell_type": "code",
   "execution_count": 43,
   "id": "9113c180-b027-4a97-8582-e61e37512464",
   "metadata": {},
   "outputs": [
    {
     "data": {
      "text/plain": [
       "0               Eve\n",
       "1               Eve\n",
       "2               Eve\n",
       "3           Morning\n",
       "4               Eve\n",
       "            ...    \n",
       "199995      Morning\n",
       "199996      Morning\n",
       "199997      Morning\n",
       "199998    afterNoon\n",
       "199999      Morning\n",
       "Name: session, Length: 200000, dtype: category\n",
       "Categories (3, object): ['Morning' < 'afterNoon' < 'Eve']"
      ]
     },
     "execution_count": 43,
     "metadata": {},
     "output_type": "execute_result"
    }
   ],
   "source": [
    "df['session']"
   ]
  },
  {
   "cell_type": "code",
   "execution_count": 44,
   "id": "5b57b0ab-496c-417d-a9a9-5c257642aae3",
   "metadata": {},
   "outputs": [],
   "source": [
    "bins=[-1,3,8,17]\n",
    "labels=['short','medium','long']\n",
    "df['distance_category']=pd.cut(df['distance'],bins=bins,labels=labels)"
   ]
  },
  {
   "cell_type": "code",
   "execution_count": 45,
   "id": "c7d9ba83-101e-49a5-acb0-d2e75ac334b9",
   "metadata": {},
   "outputs": [
    {
     "data": {
      "text/plain": [
       "0          short\n",
       "1          short\n",
       "2         medium\n",
       "3          short\n",
       "4         medium\n",
       "           ...  \n",
       "199995     short\n",
       "199996     short\n",
       "199997      long\n",
       "199998    medium\n",
       "199999    medium\n",
       "Name: distance_category, Length: 200000, dtype: category\n",
       "Categories (3, object): ['short' < 'medium' < 'long']"
      ]
     },
     "execution_count": 45,
     "metadata": {},
     "output_type": "execute_result"
    }
   ],
   "source": [
    "df['distance_category']"
   ]
  },
  {
   "cell_type": "code",
   "execution_count": 46,
   "id": "f587cb2c-90b3-4adc-bef8-94aef99651b1",
   "metadata": {},
   "outputs": [
    {
     "data": {
      "text/plain": [
       "0"
      ]
     },
     "execution_count": 46,
     "metadata": {},
     "output_type": "execute_result"
    }
   ],
   "source": [
    "df['distance_category'].isnull().sum()"
   ]
  },
  {
   "cell_type": "code",
   "execution_count": 47,
   "id": "ad742577-13f6-4db4-8c1c-e9cf7972bb21",
   "metadata": {},
   "outputs": [],
   "source": [
    "df=df.drop(['pickup_longitude','pickup_latitude','dropoff_longitude','dropoff_latitude','distance'],axis=1)"
   ]
  },
  {
   "cell_type": "code",
   "execution_count": 48,
   "id": "1d8eb9e3-db48-45ee-a0ad-da18f839609d",
   "metadata": {},
   "outputs": [],
   "source": [
    "df=df.drop(['hour','year'],axis=1)"
   ]
  },
  {
   "cell_type": "code",
   "execution_count": 49,
   "id": "938820b0-9042-4213-a834-fa456463c961",
   "metadata": {},
   "outputs": [
    {
     "data": {
      "text/html": [
       "<div>\n",
       "<style scoped>\n",
       "    .dataframe tbody tr th:only-of-type {\n",
       "        vertical-align: middle;\n",
       "    }\n",
       "\n",
       "    .dataframe tbody tr th {\n",
       "        vertical-align: top;\n",
       "    }\n",
       "\n",
       "    .dataframe thead th {\n",
       "        text-align: right;\n",
       "    }\n",
       "</style>\n",
       "<table border=\"1\" class=\"dataframe\">\n",
       "  <thead>\n",
       "    <tr style=\"text-align: right;\">\n",
       "      <th></th>\n",
       "      <th>fare_amount</th>\n",
       "      <th>passenger_count</th>\n",
       "      <th>session</th>\n",
       "      <th>distance_category</th>\n",
       "    </tr>\n",
       "  </thead>\n",
       "  <tbody>\n",
       "    <tr>\n",
       "      <th>0</th>\n",
       "      <td>7.5</td>\n",
       "      <td>1</td>\n",
       "      <td>Eve</td>\n",
       "      <td>short</td>\n",
       "    </tr>\n",
       "    <tr>\n",
       "      <th>1</th>\n",
       "      <td>7.7</td>\n",
       "      <td>1</td>\n",
       "      <td>Eve</td>\n",
       "      <td>short</td>\n",
       "    </tr>\n",
       "    <tr>\n",
       "      <th>2</th>\n",
       "      <td>12.9</td>\n",
       "      <td>1</td>\n",
       "      <td>Eve</td>\n",
       "      <td>medium</td>\n",
       "    </tr>\n",
       "    <tr>\n",
       "      <th>3</th>\n",
       "      <td>5.3</td>\n",
       "      <td>3</td>\n",
       "      <td>Morning</td>\n",
       "      <td>short</td>\n",
       "    </tr>\n",
       "    <tr>\n",
       "      <th>4</th>\n",
       "      <td>16.0</td>\n",
       "      <td>5</td>\n",
       "      <td>Eve</td>\n",
       "      <td>medium</td>\n",
       "    </tr>\n",
       "    <tr>\n",
       "      <th>5</th>\n",
       "      <td>4.9</td>\n",
       "      <td>1</td>\n",
       "      <td>Morning</td>\n",
       "      <td>short</td>\n",
       "    </tr>\n",
       "    <tr>\n",
       "      <th>6</th>\n",
       "      <td>21.5</td>\n",
       "      <td>5</td>\n",
       "      <td>Morning</td>\n",
       "      <td>long</td>\n",
       "    </tr>\n",
       "    <tr>\n",
       "      <th>7</th>\n",
       "      <td>2.5</td>\n",
       "      <td>1</td>\n",
       "      <td>afterNoon</td>\n",
       "      <td>short</td>\n",
       "    </tr>\n",
       "    <tr>\n",
       "      <th>8</th>\n",
       "      <td>9.7</td>\n",
       "      <td>1</td>\n",
       "      <td>Morning</td>\n",
       "      <td>short</td>\n",
       "    </tr>\n",
       "    <tr>\n",
       "      <th>9</th>\n",
       "      <td>12.5</td>\n",
       "      <td>1</td>\n",
       "      <td>Eve</td>\n",
       "      <td>medium</td>\n",
       "    </tr>\n",
       "    <tr>\n",
       "      <th>10</th>\n",
       "      <td>6.5</td>\n",
       "      <td>1</td>\n",
       "      <td>Eve</td>\n",
       "      <td>short</td>\n",
       "    </tr>\n",
       "    <tr>\n",
       "      <th>11</th>\n",
       "      <td>8.5</td>\n",
       "      <td>1</td>\n",
       "      <td>Eve</td>\n",
       "      <td>short</td>\n",
       "    </tr>\n",
       "    <tr>\n",
       "      <th>12</th>\n",
       "      <td>3.3</td>\n",
       "      <td>5</td>\n",
       "      <td>afterNoon</td>\n",
       "      <td>short</td>\n",
       "    </tr>\n",
       "    <tr>\n",
       "      <th>13</th>\n",
       "      <td>10.9</td>\n",
       "      <td>1</td>\n",
       "      <td>Morning</td>\n",
       "      <td>medium</td>\n",
       "    </tr>\n",
       "    <tr>\n",
       "      <th>14</th>\n",
       "      <td>6.9</td>\n",
       "      <td>1</td>\n",
       "      <td>Eve</td>\n",
       "      <td>short</td>\n",
       "    </tr>\n",
       "    <tr>\n",
       "      <th>15</th>\n",
       "      <td>9.7</td>\n",
       "      <td>2</td>\n",
       "      <td>Morning</td>\n",
       "      <td>short</td>\n",
       "    </tr>\n",
       "    <tr>\n",
       "      <th>16</th>\n",
       "      <td>4.9</td>\n",
       "      <td>1</td>\n",
       "      <td>Morning</td>\n",
       "      <td>short</td>\n",
       "    </tr>\n",
       "    <tr>\n",
       "      <th>17</th>\n",
       "      <td>10.5</td>\n",
       "      <td>2</td>\n",
       "      <td>Eve</td>\n",
       "      <td>short</td>\n",
       "    </tr>\n",
       "    <tr>\n",
       "      <th>18</th>\n",
       "      <td>12.0</td>\n",
       "      <td>1</td>\n",
       "      <td>Morning</td>\n",
       "      <td>short</td>\n",
       "    </tr>\n",
       "    <tr>\n",
       "      <th>19</th>\n",
       "      <td>4.9</td>\n",
       "      <td>1</td>\n",
       "      <td>Morning</td>\n",
       "      <td>short</td>\n",
       "    </tr>\n",
       "  </tbody>\n",
       "</table>\n",
       "</div>"
      ],
      "text/plain": [
       "    fare_amount  passenger_count    session distance_category\n",
       "0           7.5                1        Eve             short\n",
       "1           7.7                1        Eve             short\n",
       "2          12.9                1        Eve            medium\n",
       "3           5.3                3    Morning             short\n",
       "4          16.0                5        Eve            medium\n",
       "5           4.9                1    Morning             short\n",
       "6          21.5                5    Morning              long\n",
       "7           2.5                1  afterNoon             short\n",
       "8           9.7                1    Morning             short\n",
       "9          12.5                1        Eve            medium\n",
       "10          6.5                1        Eve             short\n",
       "11          8.5                1        Eve             short\n",
       "12          3.3                5  afterNoon             short\n",
       "13         10.9                1    Morning            medium\n",
       "14          6.9                1        Eve             short\n",
       "15          9.7                2    Morning             short\n",
       "16          4.9                1    Morning             short\n",
       "17         10.5                2        Eve             short\n",
       "18         12.0                1    Morning             short\n",
       "19          4.9                1    Morning             short"
      ]
     },
     "execution_count": 49,
     "metadata": {},
     "output_type": "execute_result"
    }
   ],
   "source": [
    "df.head(20)"
   ]
  },
  {
   "cell_type": "markdown",
   "id": "91daab0b-3122-4602-a0a9-0be333da09df",
   "metadata": {},
   "source": [
    "## Visualization"
   ]
  },
  {
   "cell_type": "markdown",
   "id": "a0d046c3-87d7-4d49-80d4-63ad6b8458f2",
   "metadata": {},
   "source": [
    "### Univariate Analyses"
   ]
  },
  {
   "cell_type": "code",
   "execution_count": 50,
   "id": "9a0effcf-2d51-4a76-bcb0-805ec1a61be9",
   "metadata": {},
   "outputs": [
    {
     "data": {
      "text/plain": [
       "<Axes: xlabel='session', ylabel='count'>"
      ]
     },
     "execution_count": 50,
     "metadata": {},
     "output_type": "execute_result"
    },
    {
     "data": {
      "image/png": "[encoded data removed]",
      "text/plain": [
       "<Figure size 640x480 with 1 Axes>"
      ]
     },
     "metadata": {},
     "output_type": "display_data"
    }
   ],
   "source": [
    "sns.countplot(x='session',data=df)"
   ]
  },
  {
   "cell_type": "code",
   "execution_count": 51,
   "id": "6e4175ac-1036-4b3b-abb4-66afa7bbba9e",
   "metadata": {},
   "outputs": [
    {
     "data": {
      "text/plain": [
       "<Axes: xlabel='distance_category', ylabel='count'>"
      ]
     },
     "execution_count": 51,
     "metadata": {},
     "output_type": "execute_result"
    },
    {
     "data": {
      "image/png": "[encoded data removed]",
      "text/plain": [
       "<Figure size 640x480 with 1 Axes>"
      ]
     },
     "metadata": {},
     "output_type": "display_data"
    }
   ],
   "source": [
    "sns.countplot(x='distance_category',data=df)"
   ]
  },
  {
   "cell_type": "markdown",
   "id": "3ad04712-682c-4cdc-b656-88fa4319c0ac",
   "metadata": {},
   "source": [
    "### Bivariate Analysis"
   ]
  },
  {
   "cell_type": "code",
   "execution_count": 52,
   "id": "8b435004-1388-44db-bcf2-2b219223b6f9",
   "metadata": {},
   "outputs": [
    {
     "data": {
      "text/plain": [
       "<Axes: xlabel='session'>"
      ]
     },
     "execution_count": 52,
     "metadata": {},
     "output_type": "execute_result"
    },
    {
     "data": {
      "image/png": "[encoded data removed]",
      "text/plain": [
       "<Figure size 640x480 with 1 Axes>"
      ]
     },
     "metadata": {},
     "output_type": "display_data"
    }
   ],
   "source": [
    "df.groupby(\"session\")['fare_amount'].mean().plot.bar()"
   ]
  },
  {
   "cell_type": "code",
   "execution_count": 53,
   "id": "f7c3f15a-eafb-4f77-9010-932a76169ee0",
   "metadata": {},
   "outputs": [
    {
     "data": {
      "text/plain": [
       "<Axes: xlabel='distance_category'>"
      ]
     },
     "execution_count": 53,
     "metadata": {},
     "output_type": "execute_result"
    },
    {
     "data": {
      "image/png": "[encoded data removed]",
      "text/plain": [
       "<Figure size 640x480 with 1 Axes>"
      ]
     },
     "metadata": {},
     "output_type": "display_data"
    }
   ],
   "source": [
    "df.groupby(\"distance_category\")['fare_amount'].mean().plot.bar()"
   ]
  },
  {
   "cell_type": "code",
   "execution_count": 54,
   "id": "8e62521d-326d-4451-962a-e22a3e1801cf",
   "metadata": {},
   "outputs": [
    {
     "data": {
      "text/plain": [
       "<Axes: xlabel='passenger_count'>"
      ]
     },
     "execution_count": 54,
     "metadata": {},
     "output_type": "execute_result"
    },
    {
     "data": {
      "image/png": "[encoded data removed]",
      "text/plain": [
       "<Figure size 640x480 with 1 Axes>"
      ]
     },
     "metadata": {},
     "output_type": "display_data"
    }
   ],
   "source": [
    "df.groupby(\"passenger_count\")['fare_amount'].mean().plot.bar()"
   ]
  },
  {
   "cell_type": "code",
   "execution_count": 55,
   "id": "a872de33-8ee7-4f08-978d-f79a9634dfd8",
   "metadata": {},
   "outputs": [
    {
     "data": {
      "text/plain": [
       "<Axes: xlabel='distance_category', ylabel='fare_amount'>"
      ]
     },
     "execution_count": 55,
     "metadata": {},
     "output_type": "execute_result"
    },
    {
     "data": {
      "image/png": "[encoded data removed]",
      "text/plain": [
       "<Figure size 640x480 with 1 Axes>"
      ]
     },
     "metadata": {},
     "output_type": "display_data"
    }
   ],
   "source": [
    "sns.scatterplot(y='fare_amount',x='distance_category',data=df)"
   ]
  },
  {
   "cell_type": "code",
   "execution_count": 56,
   "id": "34a716ad-fc4b-4114-93f7-d343e0a1f9a6",
   "metadata": {},
   "outputs": [
    {
     "data": {
      "text/plain": [
       "<Axes: xlabel='session', ylabel='fare_amount'>"
      ]
     },
     "execution_count": 56,
     "metadata": {},
     "output_type": "execute_result"
    },
    {
     "data": {
      "image/png": "[encoded data removed]",
      "text/plain": [
       "<Figure size 640x480 with 1 Axes>"
      ]
     },
     "metadata": {},
     "output_type": "display_data"
    }
   ],
   "source": [
    "sns.scatterplot(y='fare_amount',x='session',data=df)"
   ]
  },
  {
   "cell_type": "code",
   "execution_count": 57,
   "id": "94d8ed04-4a3d-4127-b704-7f575c0d223a",
   "metadata": {},
   "outputs": [
    {
     "data": {
      "text/plain": [
       "<Axes: xlabel='session', ylabel='fare_amount'>"
      ]
     },
     "execution_count": 57,
     "metadata": {},
     "output_type": "execute_result"
    },
    {
     "data": {
      "image/png": "[encoded data removed]",
      "text/plain": [
       "<Figure size 640x480 with 1 Axes>"
      ]
     },
     "metadata": {},
     "output_type": "display_data"
    }
   ],
   "source": [
    "sns.boxplot(x = 'session', y = 'fare_amount', data = df)"
   ]
  },
  {
   "cell_type": "markdown",
   "id": "9cccdf5a-0662-4ecd-9512-554a0145c322",
   "metadata": {},
   "source": [
    "### Create dummies for categorical variable"
   ]
  },
  {
   "cell_type": "code",
   "execution_count": 58,
   "id": "598a51a5-4c30-4640-ae46-ebc1b6837f5a",
   "metadata": {},
   "outputs": [],
   "source": [
    "session_dummy = pd.get_dummies(df['session'],drop_first=True, dtype = 'int')"
   ]
  },
  {
   "cell_type": "code",
   "execution_count": 59,
   "id": "8d834393-a5dc-414c-abae-39882a5c1346",
   "metadata": {},
   "outputs": [
    {
     "data": {
      "text/html": [
       "<div>\n",
       "<style scoped>\n",
       "    .dataframe tbody tr th:only-of-type {\n",
       "        vertical-align: middle;\n",
       "    }\n",
       "\n",
       "    .dataframe tbody tr th {\n",
       "        vertical-align: top;\n",
       "    }\n",
       "\n",
       "    .dataframe thead th {\n",
       "        text-align: right;\n",
       "    }\n",
       "</style>\n",
       "<table border=\"1\" class=\"dataframe\">\n",
       "  <thead>\n",
       "    <tr style=\"text-align: right;\">\n",
       "      <th></th>\n",
       "      <th>afterNoon</th>\n",
       "      <th>Eve</th>\n",
       "    </tr>\n",
       "  </thead>\n",
       "  <tbody>\n",
       "    <tr>\n",
       "      <th>0</th>\n",
       "      <td>0</td>\n",
       "      <td>1</td>\n",
       "    </tr>\n",
       "    <tr>\n",
       "      <th>1</th>\n",
       "      <td>0</td>\n",
       "      <td>1</td>\n",
       "    </tr>\n",
       "    <tr>\n",
       "      <th>2</th>\n",
       "      <td>0</td>\n",
       "      <td>1</td>\n",
       "    </tr>\n",
       "    <tr>\n",
       "      <th>3</th>\n",
       "      <td>0</td>\n",
       "      <td>0</td>\n",
       "    </tr>\n",
       "    <tr>\n",
       "      <th>4</th>\n",
       "      <td>0</td>\n",
       "      <td>1</td>\n",
       "    </tr>\n",
       "    <tr>\n",
       "      <th>...</th>\n",
       "      <td>...</td>\n",
       "      <td>...</td>\n",
       "    </tr>\n",
       "    <tr>\n",
       "      <th>199995</th>\n",
       "      <td>0</td>\n",
       "      <td>0</td>\n",
       "    </tr>\n",
       "    <tr>\n",
       "      <th>199996</th>\n",
       "      <td>0</td>\n",
       "      <td>0</td>\n",
       "    </tr>\n",
       "    <tr>\n",
       "      <th>199997</th>\n",
       "      <td>0</td>\n",
       "      <td>0</td>\n",
       "    </tr>\n",
       "    <tr>\n",
       "      <th>199998</th>\n",
       "      <td>1</td>\n",
       "      <td>0</td>\n",
       "    </tr>\n",
       "    <tr>\n",
       "      <th>199999</th>\n",
       "      <td>0</td>\n",
       "      <td>0</td>\n",
       "    </tr>\n",
       "  </tbody>\n",
       "</table>\n",
       "<p>200000 rows × 2 columns</p>\n",
       "</div>"
      ],
      "text/plain": [
       "        afterNoon  Eve\n",
       "0               0    1\n",
       "1               0    1\n",
       "2               0    1\n",
       "3               0    0\n",
       "4               0    1\n",
       "...           ...  ...\n",
       "199995          0    0\n",
       "199996          0    0\n",
       "199997          0    0\n",
       "199998          1    0\n",
       "199999          0    0\n",
       "\n",
       "[200000 rows x 2 columns]"
      ]
     },
     "execution_count": 59,
     "metadata": {},
     "output_type": "execute_result"
    }
   ],
   "source": [
    "session_dummy"
   ]
  },
  {
   "cell_type": "code",
   "execution_count": 60,
   "id": "4e99d1c8-fe0a-4320-8369-e02fd0ace378",
   "metadata": {},
   "outputs": [],
   "source": [
    "df=pd.concat([df,session_dummy],axis=1)"
   ]
  },
  {
   "cell_type": "code",
   "execution_count": 61,
   "id": "69852747-743c-4aa3-acbf-50586217bf12",
   "metadata": {},
   "outputs": [],
   "source": [
    "df=df.drop('session',axis=1)"
   ]
  },
  {
   "cell_type": "code",
   "execution_count": 62,
   "id": "fa568708-ea43-4e7a-9380-26ac05a665ab",
   "metadata": {},
   "outputs": [],
   "source": [
    "distance_dummy=pd.get_dummies(df['distance_category'],drop_first=True, dtype = 'int')\n",
    "df=pd.concat([df,distance_dummy],axis=1)"
   ]
  },
  {
   "cell_type": "code",
   "execution_count": 63,
   "id": "60a36931-9eb6-48f6-9a10-7e4edbdd0c6e",
   "metadata": {},
   "outputs": [],
   "source": [
    "df=df.drop('distance_category',axis=1)"
   ]
  },
  {
   "cell_type": "code",
   "execution_count": 64,
   "id": "b70d4188-2560-4821-8bfb-83f6b8b2651c",
   "metadata": {},
   "outputs": [
    {
     "data": {
      "text/html": [
       "<div>\n",
       "<style scoped>\n",
       "    .dataframe tbody tr th:only-of-type {\n",
       "        vertical-align: middle;\n",
       "    }\n",
       "\n",
       "    .dataframe tbody tr th {\n",
       "        vertical-align: top;\n",
       "    }\n",
       "\n",
       "    .dataframe thead th {\n",
       "        text-align: right;\n",
       "    }\n",
       "</style>\n",
       "<table border=\"1\" class=\"dataframe\">\n",
       "  <thead>\n",
       "    <tr style=\"text-align: right;\">\n",
       "      <th></th>\n",
       "      <th>fare_amount</th>\n",
       "      <th>passenger_count</th>\n",
       "      <th>afterNoon</th>\n",
       "      <th>Eve</th>\n",
       "      <th>medium</th>\n",
       "      <th>long</th>\n",
       "    </tr>\n",
       "  </thead>\n",
       "  <tbody>\n",
       "    <tr>\n",
       "      <th>0</th>\n",
       "      <td>7.5</td>\n",
       "      <td>1</td>\n",
       "      <td>0</td>\n",
       "      <td>1</td>\n",
       "      <td>0</td>\n",
       "      <td>0</td>\n",
       "    </tr>\n",
       "    <tr>\n",
       "      <th>1</th>\n",
       "      <td>7.7</td>\n",
       "      <td>1</td>\n",
       "      <td>0</td>\n",
       "      <td>1</td>\n",
       "      <td>0</td>\n",
       "      <td>0</td>\n",
       "    </tr>\n",
       "    <tr>\n",
       "      <th>2</th>\n",
       "      <td>12.9</td>\n",
       "      <td>1</td>\n",
       "      <td>0</td>\n",
       "      <td>1</td>\n",
       "      <td>1</td>\n",
       "      <td>0</td>\n",
       "    </tr>\n",
       "    <tr>\n",
       "      <th>3</th>\n",
       "      <td>5.3</td>\n",
       "      <td>3</td>\n",
       "      <td>0</td>\n",
       "      <td>0</td>\n",
       "      <td>0</td>\n",
       "      <td>0</td>\n",
       "    </tr>\n",
       "    <tr>\n",
       "      <th>4</th>\n",
       "      <td>16.0</td>\n",
       "      <td>5</td>\n",
       "      <td>0</td>\n",
       "      <td>1</td>\n",
       "      <td>1</td>\n",
       "      <td>0</td>\n",
       "    </tr>\n",
       "    <tr>\n",
       "      <th>...</th>\n",
       "      <td>...</td>\n",
       "      <td>...</td>\n",
       "      <td>...</td>\n",
       "      <td>...</td>\n",
       "      <td>...</td>\n",
       "      <td>...</td>\n",
       "    </tr>\n",
       "    <tr>\n",
       "      <th>199995</th>\n",
       "      <td>3.0</td>\n",
       "      <td>1</td>\n",
       "      <td>0</td>\n",
       "      <td>0</td>\n",
       "      <td>0</td>\n",
       "      <td>0</td>\n",
       "    </tr>\n",
       "    <tr>\n",
       "      <th>199996</th>\n",
       "      <td>7.5</td>\n",
       "      <td>1</td>\n",
       "      <td>0</td>\n",
       "      <td>0</td>\n",
       "      <td>0</td>\n",
       "      <td>0</td>\n",
       "    </tr>\n",
       "    <tr>\n",
       "      <th>199997</th>\n",
       "      <td>21.5</td>\n",
       "      <td>2</td>\n",
       "      <td>0</td>\n",
       "      <td>0</td>\n",
       "      <td>0</td>\n",
       "      <td>1</td>\n",
       "    </tr>\n",
       "    <tr>\n",
       "      <th>199998</th>\n",
       "      <td>14.5</td>\n",
       "      <td>1</td>\n",
       "      <td>1</td>\n",
       "      <td>0</td>\n",
       "      <td>1</td>\n",
       "      <td>0</td>\n",
       "    </tr>\n",
       "    <tr>\n",
       "      <th>199999</th>\n",
       "      <td>14.1</td>\n",
       "      <td>1</td>\n",
       "      <td>0</td>\n",
       "      <td>0</td>\n",
       "      <td>1</td>\n",
       "      <td>0</td>\n",
       "    </tr>\n",
       "  </tbody>\n",
       "</table>\n",
       "<p>200000 rows × 6 columns</p>\n",
       "</div>"
      ],
      "text/plain": [
       "        fare_amount  passenger_count  afterNoon  Eve  medium  long\n",
       "0               7.5                1          0    1       0     0\n",
       "1               7.7                1          0    1       0     0\n",
       "2              12.9                1          0    1       1     0\n",
       "3               5.3                3          0    0       0     0\n",
       "4              16.0                5          0    1       1     0\n",
       "...             ...              ...        ...  ...     ...   ...\n",
       "199995          3.0                1          0    0       0     0\n",
       "199996          7.5                1          0    0       0     0\n",
       "199997         21.5                2          0    0       0     1\n",
       "199998         14.5                1          1    0       1     0\n",
       "199999         14.1                1          0    0       1     0\n",
       "\n",
       "[200000 rows x 6 columns]"
      ]
     },
     "execution_count": 64,
     "metadata": {},
     "output_type": "execute_result"
    }
   ],
   "source": [
    "df"
   ]
  },
  {
   "cell_type": "code",
   "execution_count": 65,
   "id": "ccc9cfcc-1a5b-4c9a-b3bb-f403fb8708da",
   "metadata": {},
   "outputs": [
    {
     "data": {
      "text/html": [
       "<div>\n",
       "<style scoped>\n",
       "    .dataframe tbody tr th:only-of-type {\n",
       "        vertical-align: middle;\n",
       "    }\n",
       "\n",
       "    .dataframe tbody tr th {\n",
       "        vertical-align: top;\n",
       "    }\n",
       "\n",
       "    .dataframe thead th {\n",
       "        text-align: right;\n",
       "    }\n",
       "</style>\n",
       "<table border=\"1\" class=\"dataframe\">\n",
       "  <thead>\n",
       "    <tr style=\"text-align: right;\">\n",
       "      <th></th>\n",
       "      <th>fare_amount</th>\n",
       "      <th>passenger_count</th>\n",
       "      <th>afterNoon</th>\n",
       "      <th>Eve</th>\n",
       "      <th>medium</th>\n",
       "      <th>long</th>\n",
       "    </tr>\n",
       "  </thead>\n",
       "  <tbody>\n",
       "    <tr>\n",
       "      <th>fare_amount</th>\n",
       "      <td>1.000000</td>\n",
       "      <td>0.013734</td>\n",
       "      <td>0.000369</td>\n",
       "      <td>-0.011899</td>\n",
       "      <td>0.451646</td>\n",
       "      <td>0.571166</td>\n",
       "    </tr>\n",
       "    <tr>\n",
       "      <th>passenger_count</th>\n",
       "      <td>0.013734</td>\n",
       "      <td>1.000000</td>\n",
       "      <td>0.000378</td>\n",
       "      <td>0.019067</td>\n",
       "      <td>0.004637</td>\n",
       "      <td>0.004785</td>\n",
       "    </tr>\n",
       "    <tr>\n",
       "      <th>afterNoon</th>\n",
       "      <td>0.000369</td>\n",
       "      <td>0.000378</td>\n",
       "      <td>1.000000</td>\n",
       "      <td>-0.387252</td>\n",
       "      <td>-0.051268</td>\n",
       "      <td>0.012968</td>\n",
       "    </tr>\n",
       "    <tr>\n",
       "      <th>Eve</th>\n",
       "      <td>-0.011899</td>\n",
       "      <td>0.019067</td>\n",
       "      <td>-0.387252</td>\n",
       "      <td>1.000000</td>\n",
       "      <td>0.022876</td>\n",
       "      <td>-0.023828</td>\n",
       "    </tr>\n",
       "    <tr>\n",
       "      <th>medium</th>\n",
       "      <td>0.451646</td>\n",
       "      <td>0.004637</td>\n",
       "      <td>-0.051268</td>\n",
       "      <td>0.022876</td>\n",
       "      <td>1.000000</td>\n",
       "      <td>-0.146091</td>\n",
       "    </tr>\n",
       "    <tr>\n",
       "      <th>long</th>\n",
       "      <td>0.571166</td>\n",
       "      <td>0.004785</td>\n",
       "      <td>0.012968</td>\n",
       "      <td>-0.023828</td>\n",
       "      <td>-0.146091</td>\n",
       "      <td>1.000000</td>\n",
       "    </tr>\n",
       "  </tbody>\n",
       "</table>\n",
       "</div>"
      ],
      "text/plain": [
       "                 fare_amount  passenger_count  afterNoon       Eve    medium  \\\n",
       "fare_amount         1.000000         0.013734   0.000369 -0.011899  0.451646   \n",
       "passenger_count     0.013734         1.000000   0.000378  0.019067  0.004637   \n",
       "afterNoon           0.000369         0.000378   1.000000 -0.387252 -0.051268   \n",
       "Eve                -0.011899         0.019067  -0.387252  1.000000  0.022876   \n",
       "medium              0.451646         0.004637  -0.051268  0.022876  1.000000   \n",
       "long                0.571166         0.004785   0.012968 -0.023828 -0.146091   \n",
       "\n",
       "                     long  \n",
       "fare_amount      0.571166  \n",
       "passenger_count  0.004785  \n",
       "afterNoon        0.012968  \n",
       "Eve             -0.023828  \n",
       "medium          -0.146091  \n",
       "long             1.000000  "
      ]
     },
     "execution_count": 65,
     "metadata": {},
     "output_type": "execute_result"
    }
   ],
   "source": [
    "df.corr()"
   ]
  },
  {
   "cell_type": "code",
   "execution_count": 66,
   "id": "049827ee-406f-4c08-9b0a-4bda66aac4b5",
   "metadata": {},
   "outputs": [
    {
     "data": {
      "text/plain": [
       "<Axes: >"
      ]
     },
     "execution_count": 66,
     "metadata": {},
     "output_type": "execute_result"
    },
    {
     "data": {
      "image/png": "[encoded data removed]",
      "text/plain": [
       "<Figure size 640x480 with 2 Axes>"
      ]
     },
     "metadata": {},
     "output_type": "display_data"
    }
   ],
   "source": [
    "sns.heatmap(df.corr(),annot=True, cmap='coolwarm')"
   ]
  },
  {
   "cell_type": "markdown",
   "id": "14147f23-c2b6-4682-b8f9-9f748c5a100b",
   "metadata": {},
   "source": [
    "## Train test Split"
   ]
  },
  {
   "cell_type": "code",
   "execution_count": 67,
   "id": "b8227d57-e827-47bb-91dd-795cdb49f3b6",
   "metadata": {},
   "outputs": [],
   "source": [
    "from sklearn.model_selection import train_test_split\n",
    "df_train,df_test=train_test_split(df,test_size=0.3,train_size=0.7,random_state=100)"
   ]
  },
  {
   "cell_type": "code",
   "execution_count": 68,
   "id": "52319900-78cd-4d19-8d12-98224766e744",
   "metadata": {},
   "outputs": [
    {
     "data": {
      "text/plain": [
       "(140000, 6)"
      ]
     },
     "execution_count": 68,
     "metadata": {},
     "output_type": "execute_result"
    }
   ],
   "source": [
    "df_train.shape"
   ]
  },
  {
   "cell_type": "code",
   "execution_count": 69,
   "id": "c7955510-b4f3-4959-8f57-a127bdd1bb28",
   "metadata": {},
   "outputs": [
    {
     "data": {
      "text/plain": [
       "(60000, 6)"
      ]
     },
     "execution_count": 69,
     "metadata": {},
     "output_type": "execute_result"
    }
   ],
   "source": [
    "df_test.shape"
   ]
  },
  {
   "cell_type": "markdown",
   "id": "f825c4fb-b562-40c1-ac4a-d5e736499221",
   "metadata": {},
   "source": [
    "### Standardization"
   ]
  },
  {
   "cell_type": "code",
   "execution_count": 70,
   "id": "78e6e6f6-26f4-47b8-902a-e0196ea9e108",
   "metadata": {},
   "outputs": [],
   "source": [
    "from sklearn.preprocessing import StandardScaler\n",
    "scaler=StandardScaler()"
   ]
  },
  {
   "cell_type": "code",
   "execution_count": 71,
   "id": "b03f4d87-ec78-45b6-bb00-3e00b2b48dd6",
   "metadata": {},
   "outputs": [],
   "source": [
    "col=['fare_amount','passenger_count']\n",
    "df_train[col]=scaler.fit_transform(df_train[col])\n",
    "df_test[col]=scaler.transform(df_test[col])"
   ]
  },
  {
   "cell_type": "code",
   "execution_count": 72,
   "id": "877cf63e-e005-464f-87a3-6485bd4a10d8",
   "metadata": {},
   "outputs": [
    {
     "data": {
      "text/plain": [
       "<Axes: >"
      ]
     },
     "execution_count": 72,
     "metadata": {},
     "output_type": "execute_result"
    },
    {
     "data": {
      "image/png": "[encoded data removed]",
      "text/plain": [
       "<Figure size 640x480 with 2 Axes>"
      ]
     },
     "metadata": {},
     "output_type": "display_data"
    }
   ],
   "source": [
    "sns.heatmap(df_train.corr(), annot = True, cmap=\"YlGnBu\",fmt=\".2f\")"
   ]
  },
  {
   "cell_type": "markdown",
   "id": "c86ea592-6df1-49f4-aba5-515bd2eeaa59",
   "metadata": {},
   "source": [
    "# Correlation Analysis"
   ]
  },
  {
   "cell_type": "markdown",
   "id": "23860288-36a7-4424-8b7e-9dbe8b6698e8",
   "metadata": {},
   "source": [
    "### Correlation Analysis"
   ]
  },
  {
   "cell_type": "code",
   "execution_count": 73,
   "id": "4688cd99-1926-464b-9564-c4ef905497ae",
   "metadata": {},
   "outputs": [],
   "source": [
    "y_train = df_train.pop('fare_amount')\n",
    "X_train = df_train"
   ]
  },
  {
   "cell_type": "code",
   "execution_count": 74,
   "id": "58bc17fc-7e66-4a88-9625-e3b1b90323df",
   "metadata": {},
   "outputs": [
    {
     "data": {
      "text/html": [
       "<div>\n",
       "<style scoped>\n",
       "    .dataframe tbody tr th:only-of-type {\n",
       "        vertical-align: middle;\n",
       "    }\n",
       "\n",
       "    .dataframe tbody tr th {\n",
       "        vertical-align: top;\n",
       "    }\n",
       "\n",
       "    .dataframe thead th {\n",
       "        text-align: right;\n",
       "    }\n",
       "</style>\n",
       "<table border=\"1\" class=\"dataframe\">\n",
       "  <thead>\n",
       "    <tr style=\"text-align: right;\">\n",
       "      <th></th>\n",
       "      <th>passenger_count</th>\n",
       "      <th>afterNoon</th>\n",
       "      <th>Eve</th>\n",
       "      <th>medium</th>\n",
       "      <th>long</th>\n",
       "    </tr>\n",
       "  </thead>\n",
       "  <tbody>\n",
       "    <tr>\n",
       "      <th>195896</th>\n",
       "      <td>0.931428</td>\n",
       "      <td>0</td>\n",
       "      <td>0</td>\n",
       "      <td>0</td>\n",
       "      <td>0</td>\n",
       "    </tr>\n",
       "    <tr>\n",
       "      <th>47114</th>\n",
       "      <td>0.224937</td>\n",
       "      <td>1</td>\n",
       "      <td>0</td>\n",
       "      <td>1</td>\n",
       "      <td>0</td>\n",
       "    </tr>\n",
       "    <tr>\n",
       "      <th>144875</th>\n",
       "      <td>-0.481554</td>\n",
       "      <td>0</td>\n",
       "      <td>0</td>\n",
       "      <td>0</td>\n",
       "      <td>0</td>\n",
       "    </tr>\n",
       "    <tr>\n",
       "      <th>184791</th>\n",
       "      <td>0.224937</td>\n",
       "      <td>0</td>\n",
       "      <td>1</td>\n",
       "      <td>0</td>\n",
       "      <td>0</td>\n",
       "    </tr>\n",
       "    <tr>\n",
       "      <th>123269</th>\n",
       "      <td>0.224937</td>\n",
       "      <td>0</td>\n",
       "      <td>0</td>\n",
       "      <td>0</td>\n",
       "      <td>0</td>\n",
       "    </tr>\n",
       "    <tr>\n",
       "      <th>...</th>\n",
       "      <td>...</td>\n",
       "      <td>...</td>\n",
       "      <td>...</td>\n",
       "      <td>...</td>\n",
       "      <td>...</td>\n",
       "    </tr>\n",
       "    <tr>\n",
       "      <th>194442</th>\n",
       "      <td>-0.481554</td>\n",
       "      <td>0</td>\n",
       "      <td>1</td>\n",
       "      <td>0</td>\n",
       "      <td>0</td>\n",
       "    </tr>\n",
       "    <tr>\n",
       "      <th>65615</th>\n",
       "      <td>0.224937</td>\n",
       "      <td>0</td>\n",
       "      <td>1</td>\n",
       "      <td>0</td>\n",
       "      <td>0</td>\n",
       "    </tr>\n",
       "    <tr>\n",
       "      <th>77655</th>\n",
       "      <td>-0.481554</td>\n",
       "      <td>0</td>\n",
       "      <td>0</td>\n",
       "      <td>0</td>\n",
       "      <td>0</td>\n",
       "    </tr>\n",
       "    <tr>\n",
       "      <th>56088</th>\n",
       "      <td>-0.481554</td>\n",
       "      <td>0</td>\n",
       "      <td>1</td>\n",
       "      <td>0</td>\n",
       "      <td>0</td>\n",
       "    </tr>\n",
       "    <tr>\n",
       "      <th>38408</th>\n",
       "      <td>0.224937</td>\n",
       "      <td>0</td>\n",
       "      <td>1</td>\n",
       "      <td>0</td>\n",
       "      <td>0</td>\n",
       "    </tr>\n",
       "  </tbody>\n",
       "</table>\n",
       "<p>140000 rows × 5 columns</p>\n",
       "</div>"
      ],
      "text/plain": [
       "        passenger_count  afterNoon  Eve  medium  long\n",
       "195896         0.931428          0    0       0     0\n",
       "47114          0.224937          1    0       1     0\n",
       "144875        -0.481554          0    0       0     0\n",
       "184791         0.224937          0    1       0     0\n",
       "123269         0.224937          0    0       0     0\n",
       "...                 ...        ...  ...     ...   ...\n",
       "194442        -0.481554          0    1       0     0\n",
       "65615          0.224937          0    1       0     0\n",
       "77655         -0.481554          0    0       0     0\n",
       "56088         -0.481554          0    1       0     0\n",
       "38408          0.224937          0    1       0     0\n",
       "\n",
       "[140000 rows x 5 columns]"
      ]
     },
     "execution_count": 74,
     "metadata": {},
     "output_type": "execute_result"
    }
   ],
   "source": [
    "X_train"
   ]
  },
  {
   "cell_type": "code",
   "execution_count": 75,
   "id": "7f981ff8-a8bb-49df-bb15-067cfcfe090a",
   "metadata": {},
   "outputs": [
    {
     "data": {
      "text/plain": [
       "195896   -0.379462\n",
       "47114     0.621619\n",
       "144875   -1.040553\n",
       "184791   -1.134994\n",
       "123269   -0.568345\n",
       "            ...   \n",
       "194442    0.092746\n",
       "65615    -0.360573\n",
       "77655     0.848279\n",
       "56088     0.546066\n",
       "38408     0.168299\n",
       "Name: fare_amount, Length: 140000, dtype: float64"
      ]
     },
     "execution_count": 75,
     "metadata": {},
     "output_type": "execute_result"
    }
   ],
   "source": [
    "y_train"
   ]
  },
  {
   "cell_type": "code",
   "execution_count": null,
   "id": "be7853f8-dc4f-4bc5-a7bf-06cd6e0c2995",
   "metadata": {},
   "outputs": [],
   "source": []
  }
 ],
 "metadata": {
  "kernelspec": {
   "display_name": "Python 3 (ipykernel)",
   "language": "python",
   "name": "python3"
  },
  "language_info": {
   "codemirror_mode": {
    "name": "ipython",
    "version": 3
   },
   "file_extension": ".py",
   "mimetype": "text/x-python",
   "name": "python",
   "nbconvert_exporter": "python",
   "pygments_lexer": "ipython3",
   "version": "3.11.7"
  }
 },
 "nbformat": 4,
 "nbformat_minor": 5
}
